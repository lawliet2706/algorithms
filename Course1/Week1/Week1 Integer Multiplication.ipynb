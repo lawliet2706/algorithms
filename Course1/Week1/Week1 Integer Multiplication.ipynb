{
 "cells": [
  {
   "cell_type": "markdown",
   "metadata": {},
   "source": [
    "Karatsuba multiplication"
   ]
  },
  {
   "cell_type": "code",
   "execution_count": 248,
   "metadata": {},
   "outputs": [],
   "source": [
    "a = 1234\n",
    "b = 5678\n",
    "import math\n",
    "import numpy as np"
   ]
  },
  {
   "cell_type": "code",
   "execution_count": 19,
   "metadata": {},
   "outputs": [
    {
     "data": {
      "text/plain": [
       "5678"
      ]
     },
     "execution_count": 19,
     "metadata": {},
     "output_type": "execute_result"
    }
   ],
   "source": [
    "int(12345678.0 % (10**4))"
   ]
  },
  {
   "cell_type": "code",
   "execution_count": 4,
   "metadata": {},
   "outputs": [
    {
     "data": {
      "text/plain": [
       "7006652"
      ]
     },
     "execution_count": 4,
     "metadata": {},
     "output_type": "execute_result"
    }
   ],
   "source": [
    "a*b "
   ]
  },
  {
   "cell_type": "markdown",
   "metadata": {},
   "source": [
    "#### Karatsuba: \n",
    " - For integers x,y such that:  \n",
    "       x = 10^(n/2)a + b,\n",
    "       y = 10^(n/2)c + d\n",
    "\n",
    " - x*y = 10^n ac + 10^(n/2) * (ad + bc) + bd\n"
   ]
  },
  {
   "cell_type": "code",
   "execution_count": 328,
   "metadata": {},
   "outputs": [],
   "source": [
    "def number_of_digits(number):\n",
    "  \"\"\"\n",
    "  Used log10 to find no. of digits\n",
    "  \"\"\"\n",
    "  if number > 0:\n",
    "    return int(math.log10(number)) + 1\n",
    "  elif number == 0:\n",
    "    return 1\n",
    "  else:\n",
    "    return int(math.log10(-number)) + 1 # Don't count the '-'"
   ]
  },
  {
   "cell_type": "code",
   "execution_count": 344,
   "metadata": {},
   "outputs": [],
   "source": [
    "def karatsuba(num1,num2):\n",
    "    \n",
    "    if num1<10 and num2 <10:\n",
    "        return int(num1 * num2)\n",
    "        \n",
    "    n1 = number_of_digits(num1)\n",
    "    n2 = number_of_digits(num2)\n",
    "    \n",
    "    n = float(max(n1,n2))\n",
    "    x = math.ceil(n//2)\n",
    "    \n",
    "    a = num1 // (10**x)\n",
    "    b = num1 % (10**x)\n",
    "        \n",
    "    c = num2 // (10**x)\n",
    "    d = num2 % (10**x)\n",
    "\n",
    "    first_term = karatsuba(a,c)\n",
    "    second_term = karatsuba(b,d)\n",
    "    third_term = karatsuba(a+b,c+d)\n",
    "    forth_term = third_term - second_term - first_term\n",
    "        \n",
    "    return int((first_term * 10**(2*x)) + (forth_term * 10**x) + second_term)"
   ]
  },
  {
   "cell_type": "code",
   "execution_count": 345,
   "metadata": {},
   "outputs": [
    {
     "name": "stdout",
     "output_type": "stream",
     "text": [
      "64\n"
     ]
    }
   ],
   "source": [
    "a = 3141592653589793238462643383279502884197169399375105820974944592\n",
    "b = 2718281828459045235360287471352662497757247093699959574966967627\n",
    "assert(int(karatsuba(a,b)) == int(a*b))"
   ]
  }
 ],
 "metadata": {
  "kernelspec": {
   "display_name": "Python 3",
   "language": "python",
   "name": "python3"
  },
  "language_info": {
   "codemirror_mode": {
    "name": "ipython",
    "version": 3
   },
   "file_extension": ".py",
   "mimetype": "text/x-python",
   "name": "python",
   "nbconvert_exporter": "python",
   "pygments_lexer": "ipython3",
   "version": "3.7.4"
  }
 },
 "nbformat": 4,
 "nbformat_minor": 2
}
