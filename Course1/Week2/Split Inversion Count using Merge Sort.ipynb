{
 "cells": [
  {
   "cell_type": "code",
   "execution_count": 106,
   "metadata": {},
   "outputs": [],
   "source": [
    "def Sort_and_Count(A, n):\n",
    "    if n == 1:\n",
    "        return A,0\n",
    "    else:\n",
    "        m = n//2\n",
    "        first_half = A[:m]\n",
    "        second_half = A[m:]\n",
    "        \n",
    "        B,x = Sort_and_Count(first_half,len(first_half))\n",
    "        C,y = Sort_and_Count(second_half,len(second_half))\n",
    "        \n",
    "        D,z = Merge_and_CountSplitInv(B,C)\n",
    "        \n",
    "        return D,x+y+z"
   ]
  },
  {
   "cell_type": "code",
   "execution_count": 107,
   "metadata": {},
   "outputs": [],
   "source": [
    "def Merge_and_CountSplitInv(B,C):\n",
    "    n = len(B) + len(C)\n",
    "    D = []\n",
    "    \n",
    "    i = 0\n",
    "    j = 0\n",
    "    \n",
    "    count_split = 0\n",
    "    \n",
    "    for k in range(n):\n",
    "        if i<len(B) and j<len(C):\n",
    "            if B[i] <= C[j]:\n",
    "                D.append(B[i])\n",
    "                i+=1\n",
    "            else:\n",
    "                D.append(C[j])\n",
    "                j+=1\n",
    "                count_split+=(len(B[i:]))\n",
    "        else:\n",
    "            if i<len(B):\n",
    "                D.append(B[i])\n",
    "                i+=1\n",
    "            else:\n",
    "                D.append(C[j])\n",
    "                j+=1\n",
    "    return D,count_split"
   ]
  },
  {
   "cell_type": "code",
   "execution_count": 114,
   "metadata": {},
   "outputs": [],
   "source": [
    "input_list = open(\"IntegerArray.txt\", \"r\")\n",
    "content = input_list.read()"
   ]
  },
  {
   "cell_type": "code",
   "execution_count": 122,
   "metadata": {},
   "outputs": [],
   "source": [
    "lst = content.split(\"\\n\")\n",
    "lst = [int(x) for x in lst if x != '']"
   ]
  },
  {
   "cell_type": "code",
   "execution_count": 128,
   "metadata": {},
   "outputs": [
    {
     "data": {
      "text/plain": [
       "2407905288"
      ]
     },
     "execution_count": 128,
     "metadata": {},
     "output_type": "execute_result"
    }
   ],
   "source": [
    "sorted_lst,inv_count = Sort_and_Count(lst,len(lst))\n",
    "inv_count"
   ]
  },
  {
   "cell_type": "code",
   "execution_count": null,
   "metadata": {},
   "outputs": [],
   "source": []
  }
 ],
 "metadata": {
  "kernelspec": {
   "display_name": "Python 3",
   "language": "python",
   "name": "python3"
  },
  "language_info": {
   "codemirror_mode": {
    "name": "ipython",
    "version": 3
   },
   "file_extension": ".py",
   "mimetype": "text/x-python",
   "name": "python",
   "nbconvert_exporter": "python",
   "pygments_lexer": "ipython3",
   "version": "3.8.3"
  }
 },
 "nbformat": 4,
 "nbformat_minor": 2
}
