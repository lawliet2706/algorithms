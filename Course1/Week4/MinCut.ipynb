{
 "cells": [
  {
   "cell_type": "code",
   "execution_count": 1,
   "metadata": {},
   "outputs": [],
   "source": [
    "from random import randint,sample\n",
    "input_list = open(\"kargerMinCut.txt\", \"r\")\n",
    "content = input_list.read()\n",
    "lst = content.split(\"\\n\")[:-1]\n",
    "lst = [s.split(\"\\t\")[1:-1] for s in lst]"
   ]
  },
  {
   "cell_type": "code",
   "execution_count": 2,
   "metadata": {},
   "outputs": [],
   "source": [
    "res_dct = {i: lst[i] for i in range(0, len(lst))}"
   ]
  },
  {
   "cell_type": "code",
   "execution_count": 3,
   "metadata": {},
   "outputs": [],
   "source": [
    "def merge_keys(lst,key1,key2):\n",
    "    \"\"\"\n",
    "    merges two vertices and returns the list\n",
    "    \"\"\"\n",
    "    #print(key1,key2,lst)\n",
    "    vertex1_edges = lst[key1]\n",
    "    vertex2_edges = lst[key2]\n",
    "    \n",
    "    # delete both vertices\n",
    "    del lst[key1],lst[key2]\n",
    "    \n",
    "    #merge edges\n",
    "    new_edges = vertex1_edges + vertex2_edges\n",
    "    \n",
    "    #remove cycle edges\n",
    "    new_edges = [i for i in new_edges if i!=key1]\n",
    "    new_edges = [i for i in new_edges if i!=key2]\n",
    "    \n",
    "    #rename all the neighbor names\n",
    "    for i in lst.keys():\n",
    "        lst[i] = [key1 if j == key2 else j for j in lst[i]]\n",
    "    \n",
    "    #created a new vertex\n",
    "    lst[key1] = []\n",
    "    lst[key1] = new_edges\n",
    "    #print(key1,key2,lst)"
   ]
  },
  {
   "cell_type": "code",
   "execution_count": 4,
   "metadata": {},
   "outputs": [],
   "source": [
    "test_dict = {1: [2,3],\n",
    "             2: [3,1],\n",
    "             3: [1,2,4,5,6],\n",
    "             4: [3,5],\n",
    "             5: [3,4,6],\n",
    "             6: [5,3]\n",
    "}"
   ]
  },
  {
   "cell_type": "code",
   "execution_count": 5,
   "metadata": {},
   "outputs": [],
   "source": [
    "merge_keys(test_dict,1,2)"
   ]
  },
  {
   "cell_type": "code",
   "execution_count": 6,
   "metadata": {},
   "outputs": [
    {
     "data": {
      "text/plain": [
       "{3: [1, 1, 4, 5, 6], 4: [3, 5], 5: [3, 4, 6], 6: [5, 3], 1: [3, 3]}"
      ]
     },
     "execution_count": 6,
     "metadata": {},
     "output_type": "execute_result"
    }
   ],
   "source": [
    "test_dict"
   ]
  },
  {
   "cell_type": "code",
   "execution_count": 7,
   "metadata": {},
   "outputs": [],
   "source": [
    "def contract(graph):\n",
    "    \"\"\"\n",
    "    applies merge routine necessary times and returns min_cut\n",
    "    \"\"\"\n",
    "    \n",
    "    while len(graph.keys()) > 2:\n",
    "        #pick keys\n",
    "        key1,key2 = sample(graph.keys(),2)\n",
    "        \n",
    "        #apply merge\n",
    "        merge_keys(graph,key1,key2)\n",
    "    \n",
    "    #find min_cut\n",
    "    k = list(graph.keys())[0]\n",
    "    min_cut = len(graph[k])\n",
    "    \n",
    "    return min_cut,graph"
   ]
  },
  {
   "cell_type": "code",
   "execution_count": 8,
   "metadata": {},
   "outputs": [
    {
     "name": "stdout",
     "output_type": "stream",
     "text": [
      "{3: [4, 4, 4, 4], 4: [3, 3, 3, 3]}\n",
      "{4: [3, 3, 3], 3: [4, 4, 4]}\n",
      "{6: [1, 1], 1: [6, 6]}\n"
     ]
    }
   ],
   "source": [
    "test_dict = {1: [2,3],\n",
    "             2: [3,1],\n",
    "             3: [1,2,4,5,6],\n",
    "             4: [3,5],\n",
    "             5: [3,4,6],\n",
    "             6: [5,3]\n",
    "}\n",
    "m = 99999999999\n",
    "for i in range(20):\n",
    "    test_dict = {1: [2,3],\n",
    "             2: [3,1],\n",
    "             3: [1,2,4,5,6],\n",
    "             4: [3,5],\n",
    "             5: [3,4,6],\n",
    "             6: [5,3]\n",
    "                }\n",
    "    graph = test_dict\n",
    "    min_cut,g = contract(graph)\n",
    "    if min_cut < m:\n",
    "        print(g)\n",
    "        m = min_cut"
   ]
  },
  {
   "cell_type": "code",
   "execution_count": null,
   "metadata": {},
   "outputs": [
    {
     "name": "stdout",
     "output_type": "stream",
     "text": [
      "1435\n",
      "i: 0\n",
      "1187\n",
      "830\n",
      "341\n",
      "114\n",
      "74\n",
      "67\n",
      "40\n",
      "20\n",
      "i: 10000\n"
     ]
    }
   ],
   "source": [
    "# repeating contraction procedure (n * (n-1) /2) * ln(n) gives us 1/n proability of getting the right answer\n",
    "m = 200*199/2\n",
    "for i in range(210873):\n",
    "    #test_dict = res_dct\n",
    "    graph = {k: lst[k] for k in range(0, len(lst))}\n",
    "    min_cut,g = contract(graph)\n",
    "    if min_cut < m:\n",
    "        m = min_cut\n",
    "        print(m)\n",
    "    if i%10000 == 0:\n",
    "        print('i:',i)"
   ]
  },
  {
   "cell_type": "code",
   "execution_count": null,
   "metadata": {},
   "outputs": [],
   "source": [
    "len(res_dct.keys())"
   ]
  },
  {
   "cell_type": "code",
   "execution_count": null,
   "metadata": {},
   "outputs": [],
   "source": []
  }
 ],
 "metadata": {
  "kernelspec": {
   "display_name": "Python 3",
   "language": "python",
   "name": "python3"
  },
  "language_info": {
   "codemirror_mode": {
    "name": "ipython",
    "version": 3
   },
   "file_extension": ".py",
   "mimetype": "text/x-python",
   "name": "python",
   "nbconvert_exporter": "python",
   "pygments_lexer": "ipython3",
   "version": "3.8.3"
  }
 },
 "nbformat": 4,
 "nbformat_minor": 4
}
