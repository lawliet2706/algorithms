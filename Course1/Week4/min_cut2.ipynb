{
 "cells": [
  {
   "cell_type": "code",
   "execution_count": 1,
   "metadata": {},
   "outputs": [
    {
     "name": "stdout",
     "output_type": "stream",
     "text": [
      "17\n"
     ]
    }
   ],
   "source": [
    "from random import choice\n",
    "from copy import deepcopy\n",
    "\n",
    "def contract(graph):\n",
    "    u = choice(list(graph.keys()))\n",
    "    v = choice(graph[u])\n",
    "    new_key = u+\"-\"+v \n",
    "    graph[new_key] = graph[u] + graph[v]\n",
    "    del graph[u]\n",
    "    del graph[v]\n",
    "    for key in graph.keys():\n",
    "        copy = graph[key][:]\n",
    "        if new_key == key:\n",
    "            for item in copy:\n",
    "                if item == u or item == v:\n",
    "                    graph[key].remove(item)\n",
    "        else:\n",
    "            for item in copy:\n",
    "                if item == u or item == v:\n",
    "                    graph[key].remove(item)\n",
    "                    graph[key].append(new_key)\n",
    "                    \n",
    "    \n",
    "def min_cut(graph):\n",
    "    n = len(graph)\n",
    "    minimum = n*(n-1)//2\n",
    "    for i in range(n):\n",
    "        copy =  deepcopy(graph)\n",
    "        while len(copy) > 2:\n",
    "            contract(copy)\n",
    "            minimum = min(minimum , len(list(copy.values())[0]))\n",
    "    return minimum\n",
    "        \n",
    "\n",
    "graph = {}\n",
    "with open('kargerMinCut.txt') as f:\n",
    "    data = f.readlines()\n",
    "    for line in data:\n",
    "        elements = list(map(str,line.split('\\t')[:-1]))\n",
    "        graph[str(elements[0])] = elements[1:]\n",
    "f.close()\n",
    "print(min_cut(graph))\n"
   ]
  },
  {
   "cell_type": "code",
   "execution_count": null,
   "metadata": {},
   "outputs": [],
   "source": []
  }
 ],
 "metadata": {
  "kernelspec": {
   "display_name": "Python 3",
   "language": "python",
   "name": "python3"
  },
  "language_info": {
   "codemirror_mode": {
    "name": "ipython",
    "version": 3
   },
   "file_extension": ".py",
   "mimetype": "text/x-python",
   "name": "python",
   "nbconvert_exporter": "python",
   "pygments_lexer": "ipython3",
   "version": "3.8.3"
  }
 },
 "nbformat": 4,
 "nbformat_minor": 4
}
