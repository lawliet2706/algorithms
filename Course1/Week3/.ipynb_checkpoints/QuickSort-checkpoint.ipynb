{
 "cells": [
  {
   "cell_type": "code",
   "execution_count": 5,
   "metadata": {},
   "outputs": [],
   "source": [
    "input_list = open(\"QuickSort.txt\", \"r\")\n",
    "content = input_list.read()\n",
    "lst = content.split(\"\\n\")\n",
    "lst = [int(x) for x in lst if x != '']"
   ]
  },
  {
   "cell_type": "code",
   "execution_count": 6,
   "metadata": {},
   "outputs": [],
   "source": [
    "def QuickSort(array, length):\n",
    "    if length == 1:\n",
    "        return\n",
    "    else:\n",
    "        p = ChoosePivot(array,length)\n",
    "        Partition(array,p)\n",
    "        "
   ]
  },
  {
   "cell_type": "code",
   "execution_count": 7,
   "metadata": {},
   "outputs": [],
   "source": [
    "def ChoosePivot(array,length):\n",
    "    return"
   ]
  },
  {
   "cell_type": "code",
   "execution_count": 35,
   "metadata": {},
   "outputs": [],
   "source": [
    "def Partition(array, pivot):\n",
    "    p_value = array[pivot]\n",
    "    \n",
    "    n = len(array)\n",
    "    i = 0\n",
    "    j = n - 1\n",
    "    \n",
    "    while i <= j:\n",
    "        print(i,j)\n",
    "        if array[i] < p_value:\n",
    "            i+=1\n",
    "        else:\n",
    "            if array[j] > p_value:\n",
    "                j-=1\n",
    "            else:\n",
    "                temp = array[i]\n",
    "                array[i] = array[j]\n",
    "                array[j] = temp\n",
    "                i+=1\n",
    "                j-=1"
   ]
  },
  {
   "cell_type": "code",
   "execution_count": 36,
   "metadata": {},
   "outputs": [],
   "source": [
    "lst = [1, 12, 5, 26, 7, 14, 3, 7, 2]"
   ]
  },
  {
   "cell_type": "code",
   "execution_count": 37,
   "metadata": {},
   "outputs": [
    {
     "name": "stdout",
     "output_type": "stream",
     "text": [
      "0 8\n",
      "1 8\n",
      "2 7\n",
      "3 7\n",
      "4 6\n",
      "5 5\n"
     ]
    },
    {
     "data": {
      "text/plain": [
       "[1, 2, 5, 7, 3, 14, 7, 26, 12]"
      ]
     },
     "execution_count": 37,
     "metadata": {},
     "output_type": "execute_result"
    }
   ],
   "source": [
    "Partition(lst, 4)\n",
    "lst"
   ]
  },
  {
   "cell_type": "code",
   "execution_count": 38,
   "metadata": {},
   "outputs": [
    {
     "data": {
      "text/plain": [
       "[1, 2, 5, 7, 3, 14, 7, 26, 12]"
      ]
     },
     "execution_count": 38,
     "metadata": {},
     "output_type": "execute_result"
    }
   ],
   "source": [
    "lst"
   ]
  },
  {
   "cell_type": "code",
   "execution_count": null,
   "metadata": {},
   "outputs": [],
   "source": []
  }
 ],
 "metadata": {
  "kernelspec": {
   "display_name": "Python 3",
   "language": "python",
   "name": "python3"
  },
  "language_info": {
   "codemirror_mode": {
    "name": "ipython",
    "version": 3
   },
   "file_extension": ".py",
   "mimetype": "text/x-python",
   "name": "python",
   "nbconvert_exporter": "python",
   "pygments_lexer": "ipython3",
   "version": "3.8.3"
  }
 },
 "nbformat": 4,
 "nbformat_minor": 4
}
