{
 "cells": [
  {
   "cell_type": "markdown",
   "metadata": {},
   "source": [
    "## Part 1"
   ]
  },
  {
   "cell_type": "code",
   "execution_count": 82,
   "metadata": {},
   "outputs": [],
   "source": [
    "from random import randint\n",
    "input_list = open(\"QuickSort.txt\", \"r\")\n",
    "content = input_list.read()\n",
    "lst = content.split(\"\\n\")\n",
    "lst = [int(x) for x in lst if x != '']"
   ]
  },
  {
   "cell_type": "code",
   "execution_count": 83,
   "metadata": {},
   "outputs": [],
   "source": [
    "def ChoosePivot(array,lo,hi, option = 'first'):\n",
    "    if option == 'first':\n",
    "        return lo\n",
    "    elif option == 'last':\n",
    "        return hi"
   ]
  },
  {
   "cell_type": "code",
   "execution_count": 84,
   "metadata": {},
   "outputs": [],
   "source": [
    "def Partition(array,lo,hi, c):\n",
    "    \n",
    "    pivot = lo\n",
    "    p_value = array[pivot]\n",
    "    i = lo + 1\n",
    "    \n",
    "    for j in range(lo+1,hi+1):\n",
    "        c = c+ 1\n",
    "        if array[j] < p_value:\n",
    "\n",
    "            temp = array[i]\n",
    "            array[i] = array[j]\n",
    "            array[j] = temp\n",
    "            i+=1\n",
    "            \n",
    "    temp = array[lo]\n",
    "    array[lo] = array[i-1]\n",
    "    array[i-1] = temp\n",
    "    #print(lst)\n",
    "    return i-1,c"
   ]
  },
  {
   "cell_type": "code",
   "execution_count": 85,
   "metadata": {},
   "outputs": [],
   "source": [
    "def QuickSort(array, lo, hi, c): \n",
    "    if len(array[lo : hi+1]) <= 1:\n",
    "        return c\n",
    "    p_index,c = Partition(array, lo, hi, c)\n",
    "    c = QuickSort(array, lo, p_index - 1, c)\n",
    "    c = QuickSort(array, p_index+1, hi, c)\n",
    "    return c"
   ]
  },
  {
   "cell_type": "code",
   "execution_count": 86,
   "metadata": {},
   "outputs": [],
   "source": [
    "def count_comparisons(lst):\n",
    "    count = 0\n",
    "    l = len(lst)\n",
    "    num_comparisons = QuickSort(lst, lo = 0, hi = l - 1, c = 0)\n",
    "    print(num_comparisons)"
   ]
  },
  {
   "cell_type": "code",
   "execution_count": 87,
   "metadata": {},
   "outputs": [
    {
     "name": "stdout",
     "output_type": "stream",
     "text": [
      "162085\n"
     ]
    }
   ],
   "source": [
    "#lst = [3,4,1]\n",
    "count_comparisons(lst)"
   ]
  },
  {
   "cell_type": "markdown",
   "metadata": {},
   "source": [
    "## Part 2"
   ]
  },
  {
   "cell_type": "code",
   "execution_count": 64,
   "metadata": {},
   "outputs": [],
   "source": [
    "from random import randint\n",
    "input_list = open(\"QuickSort.txt\", \"r\")\n",
    "content = input_list.read()\n",
    "lst = content.split(\"\\n\")\n",
    "lst = [int(x) for x in lst if x != '']"
   ]
  },
  {
   "cell_type": "code",
   "execution_count": 65,
   "metadata": {},
   "outputs": [],
   "source": [
    "def Partition(array, lo, hi, c):\n",
    "    \n",
    "    pivot = hi\n",
    "    p_value = array[pivot]\n",
    "    i = hi - 1\n",
    "    \n",
    "    for j in range(lo,hi):\n",
    "        c = c + 1\n",
    "        if array[j] < p_value:\n",
    "\n",
    "            temp = array[i]\n",
    "            array[i] = array[j]\n",
    "            array[j] = temp\n",
    "            i-=1\n",
    "            \n",
    "    temp = array[hi]\n",
    "    array[hi] = array[i - 1]\n",
    "    array[i - 1] = temp\n",
    "    #print(lst)\n",
    "    return i - 1,c"
   ]
  },
  {
   "cell_type": "code",
   "execution_count": 66,
   "metadata": {},
   "outputs": [],
   "source": [
    "def QuickSort(array, lo, hi, c): \n",
    "    if len(array[lo : hi+1]) <= 1:\n",
    "        return c\n",
    "    p_index,c = Partition(array, lo, hi, c)\n",
    "    c = QuickSort(array, lo, p_index - 1 , c)\n",
    "    c = QuickSort(array, p_index+1, hi - 1, c)\n",
    "    return c"
   ]
  },
  {
   "cell_type": "code",
   "execution_count": 67,
   "metadata": {},
   "outputs": [],
   "source": [
    "def count_comparisons(lst):\n",
    "    count = 0\n",
    "    l = len(lst)\n",
    "    num_comparisons = QuickSort(lst, lo = 0, hi = l - 1, c = 0)\n",
    "    print(num_comparisons)"
   ]
  },
  {
   "cell_type": "code",
   "execution_count": 74,
   "metadata": {},
   "outputs": [
    {
     "name": "stdout",
     "output_type": "stream",
     "text": [
      "5\n"
     ]
    }
   ],
   "source": [
    "#lst = [3,4,1]\n",
    "count_comparisons(arr)"
   ]
  },
  {
   "cell_type": "code",
   "execution_count": 75,
   "metadata": {},
   "outputs": [
    {
     "data": {
      "text/plain": [
       "[3, 2, 5, 4, 1]"
      ]
     },
     "execution_count": 75,
     "metadata": {},
     "output_type": "execute_result"
    }
   ],
   "source": [
    "arr"
   ]
  },
  {
   "cell_type": "code",
   "execution_count": 73,
   "metadata": {},
   "outputs": [],
   "source": [
    "arr = [3,1,4,5,2]"
   ]
  },
  {
   "cell_type": "code",
   "execution_count": 71,
   "metadata": {},
   "outputs": [
    {
     "data": {
      "text/plain": [
       "[3, 2, 4, 5, 1]"
      ]
     },
     "execution_count": 71,
     "metadata": {},
     "output_type": "execute_result"
    }
   ],
   "source": []
  },
  {
   "cell_type": "code",
   "execution_count": null,
   "metadata": {},
   "outputs": [],
   "source": []
  }
 ],
 "metadata": {
  "kernelspec": {
   "display_name": "Python 3",
   "language": "python",
   "name": "python3"
  },
  "language_info": {
   "codemirror_mode": {
    "name": "ipython",
    "version": 3
   },
   "file_extension": ".py",
   "mimetype": "text/x-python",
   "name": "python",
   "nbconvert_exporter": "python",
   "pygments_lexer": "ipython3",
   "version": "3.8.3"
  }
 },
 "nbformat": 4,
 "nbformat_minor": 4
}
