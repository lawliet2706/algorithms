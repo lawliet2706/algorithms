{
 "cells": [
  {
   "cell_type": "markdown",
   "metadata": {},
   "source": [
    "## Part 1"
   ]
  },
  {
   "cell_type": "code",
   "execution_count": 1,
   "metadata": {},
   "outputs": [],
   "source": [
    "from random import randint\n",
    "input_list = open(\"QuickSort.txt\", \"r\")\n",
    "content = input_list.read()\n",
    "lst = content.split(\"\\n\")\n",
    "lst = [int(x) for x in lst if x != '']"
   ]
  },
  {
   "cell_type": "code",
   "execution_count": 2,
   "metadata": {},
   "outputs": [],
   "source": [
    "def ChoosePivot(array,lo,hi, option = 'first'):\n",
    "    if option == 'first':\n",
    "        return lo\n",
    "    elif option == 'last':\n",
    "        return hi"
   ]
  },
  {
   "cell_type": "code",
   "execution_count": 3,
   "metadata": {},
   "outputs": [],
   "source": [
    "def Partition(array,lo,hi, c):\n",
    "    \n",
    "    pivot = lo\n",
    "    p_value = array[pivot]\n",
    "    i = lo + 1\n",
    "    \n",
    "    for j in range(lo+1,hi+1):\n",
    "        c = c+ 1\n",
    "        if array[j] < p_value:\n",
    "\n",
    "            temp = array[i]\n",
    "            array[i] = array[j]\n",
    "            array[j] = temp\n",
    "            i+=1\n",
    "            \n",
    "    temp = array[lo]\n",
    "    array[lo] = array[i-1]\n",
    "    array[i-1] = temp\n",
    "    #print(lst)\n",
    "    return i-1,c"
   ]
  },
  {
   "cell_type": "code",
   "execution_count": 4,
   "metadata": {},
   "outputs": [],
   "source": [
    "def QuickSort(array, lo, hi, c): \n",
    "    if len(array[lo : hi+1]) <= 1:\n",
    "        return c\n",
    "    p_index,c = Partition(array, lo, hi, c)\n",
    "    c = QuickSort(array, lo, p_index - 1, c)\n",
    "    c = QuickSort(array, p_index+1, hi, c)\n",
    "    return c"
   ]
  },
  {
   "cell_type": "code",
   "execution_count": 5,
   "metadata": {},
   "outputs": [],
   "source": [
    "def count_comparisons(lst):\n",
    "    count = 0\n",
    "    l = len(lst)\n",
    "    num_comparisons = QuickSort(lst, lo = 0, hi = l - 1, c = 0)\n",
    "    print(num_comparisons)"
   ]
  },
  {
   "cell_type": "code",
   "execution_count": 6,
   "metadata": {},
   "outputs": [
    {
     "name": "stdout",
     "output_type": "stream",
     "text": [
      "162085\n"
     ]
    }
   ],
   "source": [
    "#lst = [3,4,1]\n",
    "count_comparisons(lst)"
   ]
  },
  {
   "cell_type": "code",
   "execution_count": 7,
   "metadata": {},
   "outputs": [
    {
     "data": {
      "text/plain": [
       "162085"
      ]
     },
     "execution_count": 7,
     "metadata": {},
     "output_type": "execute_result"
    }
   ],
   "source": [
    "172079 - 9999 + 5"
   ]
  },
  {
   "cell_type": "code",
   "execution_count": null,
   "metadata": {},
   "outputs": [],
   "source": []
  }
 ],
 "metadata": {
  "kernelspec": {
   "display_name": "Python 3",
   "language": "python",
   "name": "python3"
  },
  "language_info": {
   "codemirror_mode": {
    "name": "ipython",
    "version": 3
   },
   "file_extension": ".py",
   "mimetype": "text/x-python",
   "name": "python",
   "nbconvert_exporter": "python",
   "pygments_lexer": "ipython3",
   "version": "3.8.3"
  }
 },
 "nbformat": 4,
 "nbformat_minor": 4
}
